{
 "cells": [
  {
   "cell_type": "code",
   "execution_count": null,
   "metadata": {},
   "outputs": [],
   "source": [
    "!CUDA_VISIBLEDEVICES=1 python3 validate-trained-models.py --data-dir ../dataset/coco --runs_root ./runs"
   ]
  },
  {
   "cell_type": "code",
   "execution_count": null,
   "metadata": {},
   "outputs": [],
   "source": [
    "!CUDA_VISIBLEDEVICES=1 python3 validate-trained-models.py --data-dir ../dataset/coco --runs_root ./runs --noise 'jpeg()'"
   ]
  },
  {
   "cell_type": "code",
   "execution_count": null,
   "metadata": {},
   "outputs": [],
   "source": [
    "for i in range(9):\n",
    "    p=(i+1.)/10\n",
    "    print(p)\n",
    "    !CUDA_VISIBLEDEVICES=1 python3 validate-trained-models.py --data-dir ../dataset/coco --runs_root ./runs --noise 'cropout(({p},{p}),({p},{p}))'"
   ]
  },
  {
   "cell_type": "code",
   "execution_count": null,
   "metadata": {},
   "outputs": [],
   "source": [
    "for i in range(9):\n",
    "    p=(i+1.)/10\n",
    "    print(p)\n",
    "    !CUDA_VISIBLEDEVICES=1 python3 validate-trained-models.py --data-dir ../dataset/coco --runs_root ./runs --noise 'dropout({p},{p})'"
   ]
  },
  {
   "cell_type": "code",
   "execution_count": null,
   "metadata": {},
   "outputs": [],
   "source": [
    "for i in range(9):\n",
    "    p=(i+1.)/10\n",
    "    print(p)\n",
    "    !CUDA_VISIBLEDEVICES=1 python3 validate-trained-models.py --data-dir ../dataset/coco --runs_root ./runs --noise 'crop(({p},{p}),({p},{p}))'"
   ]
  }
 ],
 "metadata": {
  "interpreter": {
   "hash": "83c1a0ec6add1fd4f375bd272e24b1134000d2abdfc25a15f44cf5a463b955d2"
  },
  "kernelspec": {
   "display_name": "Python 3.8.12 ('ml_final')",
   "language": "python",
   "name": "python3"
  },
  "language_info": {
   "codemirror_mode": {
    "name": "ipython",
    "version": 3
   },
   "file_extension": ".py",
   "mimetype": "text/x-python",
   "name": "python",
   "nbconvert_exporter": "python",
   "pygments_lexer": "ipython3",
   "version": "3.8.12"
  },
  "orig_nbformat": 4
 },
 "nbformat": 4,
 "nbformat_minor": 2
}
