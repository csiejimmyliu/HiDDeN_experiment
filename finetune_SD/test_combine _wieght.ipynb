{
 "cells": [
  {
   "cell_type": "code",
   "execution_count": 1,
   "metadata": {},
   "outputs": [
    {
     "name": "stderr",
     "output_type": "stream",
     "text": [
      "/home/master/10/jimmyliu/miniconda3/envs/ldm/lib/python3.8/site-packages/tqdm/auto.py:21: TqdmWarning: IProgress not found. Please update jupyter and ipywidgets. See https://ipywidgets.readthedocs.io/en/stable/user_install.html\n",
      "  from .autonotebook import tqdm as notebook_tqdm\n",
      "/home/master/10/jimmyliu/miniconda3/envs/ldm/lib/python3.8/site-packages/onnxruntime/capi/onnxruntime_validation.py:114: UserWarning: WARNING: failed to get cudart_version from onnxruntime build info.\n",
      "  warnings.warn(\"WARNING: failed to get cudart_version from onnxruntime build info.\")\n"
     ]
    }
   ],
   "source": [
    "import torch\n",
    "import torch.nn as nn\n",
    "from diffusers import AutoencoderKL,StableDiffusionPipeline, DPMSolverMultistepScheduler\n",
    "\n",
    "\n",
    "def compare_model(model1,model2):\n",
    "    for p1, p2 in zip(model1.parameters(), model2.parameters()):\n",
    "        if p1.data.ne(p2.data).sum() > 0:\n",
    "            return False\n",
    "    return True"
   ]
  },
  {
   "cell_type": "code",
   "execution_count": 7,
   "metadata": {},
   "outputs": [],
   "source": [
    "def combine_linear_layer(l1,l2):\n",
    "    w1=l1.weight\n",
    "    b1=l1.bias\n",
    "    w2=l2.weight\n",
    "    b2=l2.bias\n",
    "\n",
    "    w3=w2@w1\n",
    "    b3=w2@b1+b2\n",
    "\n",
    "    return nn.Parameter(w3),nn.Parameter(b3)"
   ]
  },
  {
   "cell_type": "code",
   "execution_count": 8,
   "metadata": {},
   "outputs": [],
   "source": [
    "l1=nn.Linear(2,3)\n",
    "l2=nn.Linear(3,4)\n",
    "\n",
    "l3=nn.Linear(2,4)\n",
    "w3,b3=combine_linear_layer(l1,l2)\n",
    "l3.weight=w3\n",
    "l3.bias=b3"
   ]
  },
  {
   "cell_type": "code",
   "execution_count": 9,
   "metadata": {},
   "outputs": [
    {
     "name": "stdout",
     "output_type": "stream",
     "text": [
      "tensor([ 0.4492, -0.1605, -0.5387,  0.3458], grad_fn=<AddBackward0>)\n",
      "tensor([ 0.4492, -0.1605, -0.5387,  0.3458], grad_fn=<AddBackward0>)\n"
     ]
    }
   ],
   "source": [
    "input=torch.rand(2)\n",
    "\n",
    "print(l2(l1(input)))\n",
    "print(l3(input))"
   ]
  },
  {
   "cell_type": "code",
   "execution_count": null,
   "metadata": {},
   "outputs": [],
   "source": [
    "\n"
   ]
  },
  {
   "cell_type": "code",
   "execution_count": null,
   "metadata": {},
   "outputs": [],
   "source": [
    "t=torch.rand(1,3,512,512)\n",
    "print(vae_ori(t).sample)"
   ]
  }
 ],
 "metadata": {
  "kernelspec": {
   "display_name": "ldm",
   "language": "python",
   "name": "python3"
  },
  "language_info": {
   "codemirror_mode": {
    "name": "ipython",
    "version": 3
   },
   "file_extension": ".py",
   "mimetype": "text/x-python",
   "name": "python",
   "nbconvert_exporter": "python",
   "pygments_lexer": "ipython3",
   "version": "3.8.5"
  },
  "orig_nbformat": 4
 },
 "nbformat": 4,
 "nbformat_minor": 2
}
