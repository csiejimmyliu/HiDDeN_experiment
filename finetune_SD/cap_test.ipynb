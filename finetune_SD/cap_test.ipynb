{
 "cells": [
  {
   "cell_type": "code",
   "execution_count": 2,
   "metadata": {},
   "outputs": [],
   "source": [
    "import json\n",
    "from diffusers import StableDiffusionPipeline, DPMSolverMultistepScheduler,AutoencoderKL\n",
    "import torch\n",
    "json_path='/tmp2/jimmyliu/HiDDeN_experiment/cap_list.json'\n",
    "cap=json.load(open(json_path))"
   ]
  },
  {
   "cell_type": "code",
   "execution_count": 5,
   "metadata": {},
   "outputs": [
    {
     "name": "stdout",
     "output_type": "stream",
     "text": [
      "The young man is holding a clear Frisbee.\n"
     ]
    }
   ],
   "source": [
    "num=167\n",
    "print(cap[num])"
   ]
  },
  {
   "cell_type": "code",
   "execution_count": 10,
   "metadata": {},
   "outputs": [
    {
     "name": "stdout",
     "output_type": "stream",
     "text": [
      "{'image_id': 179765, 'id': 38, 'caption': 'A black Honda motorcycle parked in front of a garage.'}\n"
     ]
    }
   ],
   "source": [
    "print(cap[\"annotations\"][0])"
   ]
  },
  {
   "cell_type": "code",
   "execution_count": 2,
   "metadata": {},
   "outputs": [],
   "source": [
    "seeds=[]\n",
    "generator = torch.Generator()\n",
    "for i in range(5000):\n",
    "    seed = generator.seed()\n",
    "    seeds.append(seed)\n",
    "\n"
   ]
  },
  {
   "cell_type": "code",
   "execution_count": 5,
   "metadata": {},
   "outputs": [],
   "source": [
    "seeds_json=json.dumps(seeds)\n",
    "with open(\"5000_seeds.json\", \"w\") as outfile:\n",
    "    outfile.write(seeds_json)"
   ]
  }
 ],
 "metadata": {
  "kernelspec": {
   "display_name": "ldm",
   "language": "python",
   "name": "python3"
  },
  "language_info": {
   "codemirror_mode": {
    "name": "ipython",
    "version": 3
   },
   "file_extension": ".py",
   "mimetype": "text/x-python",
   "name": "python",
   "nbconvert_exporter": "python",
   "pygments_lexer": "ipython3",
   "version": "3.8.5"
  },
  "orig_nbformat": 4
 },
 "nbformat": 4,
 "nbformat_minor": 2
}
