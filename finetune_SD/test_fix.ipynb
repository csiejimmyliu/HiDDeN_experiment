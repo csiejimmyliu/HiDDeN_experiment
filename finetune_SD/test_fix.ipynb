{
 "cells": [
  {
   "cell_type": "code",
   "execution_count": 1,
   "metadata": {},
   "outputs": [
    {
     "name": "stderr",
     "output_type": "stream",
     "text": [
      "/home/master/10/jimmyliu/miniconda3/envs/ldm/lib/python3.8/site-packages/tqdm/auto.py:21: TqdmWarning: IProgress not found. Please update jupyter and ipywidgets. See https://ipywidgets.readthedocs.io/en/stable/user_install.html\n",
      "  from .autonotebook import tqdm as notebook_tqdm\n"
     ]
    }
   ],
   "source": [
    "import torch\n",
    "import torch.nn as nn\n",
    "\n"
   ]
  },
  {
   "cell_type": "code",
   "execution_count": 2,
   "metadata": {},
   "outputs": [],
   "source": [
    "def compare_model(model1,model2):\n",
    "    for p1, p2 in zip(model1.parameters(), model2.parameters()):\n",
    "        if p1.data.ne(p2.data).sum() > 0:\n",
    "            return False\n",
    "    return True"
   ]
  },
  {
   "cell_type": "code",
   "execution_count": 3,
   "metadata": {},
   "outputs": [],
   "source": [
    "model_ori=torch.load('/tmp3/jimmyliu/HiDDeN_experiment/wm_decoder_checkpoint/whiten45.pt').to('cpu')\n",
    "model_com=torch.load('/tmp3/jimmyliu/HiDDeN_experiment/wm_decoder_checkpoint/compare.pt').to('cpu')"
   ]
  },
  {
   "cell_type": "code",
   "execution_count": 7,
   "metadata": {},
   "outputs": [],
   "source": [
    "from diffusers import AutoencoderKL\n",
    "model_id = \"runwayml/stable-diffusion-v1-5\"\n",
    "vae_ori=AutoencoderKL.from_pretrained(model_id, subfolder=\"vae\")\n",
    "vae_com=AutoencoderKL.from_pretrained('/tmp3/jimmyliu/HiDDeN_experiment/finetune_SD/runs/test 2023.05.28--14-20-05/checkpoints/vae_1')\n"
   ]
  },
  {
   "cell_type": "code",
   "execution_count": 9,
   "metadata": {},
   "outputs": [
    {
     "name": "stdout",
     "output_type": "stream",
     "text": [
      "True\n",
      "True\n",
      "False\n",
      "False\n"
     ]
    }
   ],
   "source": [
    "ans=compare_model(vae_ori.encoder,vae_com.encoder)\n",
    "print(ans)\n",
    "ans=compare_model(vae_ori.quant_conv,vae_com.quant_conv)\n",
    "print(ans)\n",
    "ans=compare_model(vae_ori.decoder,vae_com.decoder)\n",
    "print(ans)\n",
    "ans=compare_model(vae_ori.post_quant_conv,vae_com.post_quant_conv)\n",
    "print(ans)"
   ]
  }
 ],
 "metadata": {
  "kernelspec": {
   "display_name": "ldm",
   "language": "python",
   "name": "python3"
  },
  "language_info": {
   "codemirror_mode": {
    "name": "ipython",
    "version": 3
   },
   "file_extension": ".py",
   "mimetype": "text/x-python",
   "name": "python",
   "nbconvert_exporter": "python",
   "pygments_lexer": "ipython3",
   "version": "3.8.5"
  },
  "orig_nbformat": 4
 },
 "nbformat": 4,
 "nbformat_minor": 2
}
