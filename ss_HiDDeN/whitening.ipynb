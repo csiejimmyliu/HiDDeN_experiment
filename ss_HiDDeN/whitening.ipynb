{
 "cells": [
  {
   "cell_type": "code",
   "execution_count": 1,
   "metadata": {},
   "outputs": [
    {
     "name": "stderr",
     "output_type": "stream",
     "text": [
      "/home/master/10/jimmyliu/miniconda3/envs/ldm/lib/python3.8/site-packages/tqdm/auto.py:21: TqdmWarning: IProgress not found. Please update jupyter and ipywidgets. See https://ipywidgets.readthedocs.io/en/stable/user_install.html\n",
      "  from .autonotebook import tqdm as notebook_tqdm\n"
     ]
    }
   ],
   "source": [
    "import os\n",
    "import time\n",
    "import pprint\n",
    "import argparse\n",
    "import torch\n",
    "import numpy as np\n",
    "import pickle\n",
    "import utils\n",
    "import csv\n",
    "\n",
    "from model.hidden import Hidden\n",
    "from noise_layers.noiser import Noiser\n",
    "from average_meter import AverageMeter\n",
    "from noise_argparser import NoiseArgParser\n",
    "\n",
    "import torch.nn as nn\n",
    "import numpy as np\n",
    "import matplotlib.pyplot as plt"
   ]
  },
  {
   "cell_type": "code",
   "execution_count": 2,
   "metadata": {},
   "outputs": [],
   "source": [
    "data_dir='/tmp2/jimmyliu/HiDDeN_experiment/dataset_10000'\n",
    "#current_run='/tmp2/jimmyliu/HiDDeN_experiment/ss_HiDDeN/runs/combined-noise-256-adam 2023.05.20--02-44-07'\n",
    "current_run=\"/tmp2/jimmyliu/HiDDeN_experiment/ss_HiDDeN/runs/combined-baseline-256-adam-mse 2023.05.26--16-28-10\"\n",
    "batch_size=2\n",
    "round=True\n",
    "\n",
    "device = torch.device('cuda') if torch.cuda.is_available() else torch.device('cpu')\n",
    "options_file = os.path.join(current_run, 'options-and-config.pickle')\n",
    "train_options, hidden_config, _ = utils.load_options(options_file)\n",
    "train_options.train_folder = os.path.join(data_dir, 'val')\n",
    "train_options.validation_folder = os.path.join(data_dir, 'train')\n",
    "train_options.batch_size = batch_size\n",
    "noise_config=[]"
   ]
  },
  {
   "cell_type": "code",
   "execution_count": 114,
   "metadata": {},
   "outputs": [
    {
     "name": "stdout",
     "output_type": "stream",
     "text": [
      "Loaded checkpoint from file /tmp2/jimmyliu/HiDDeN_experiment/ss_HiDDeN/runs/combined-baseline-256-adam-mse 2023.05.26--16-28-10/checkpoints/combined-baseline-256-adam-mse--epoch-104.pyt\n"
     ]
    },
    {
     "data": {
      "text/plain": [
       "EncoderDecoder(\n",
       "  (encoder): Encoder(\n",
       "    (conv_layers): Sequential(\n",
       "      (0): ConvBNRelu(\n",
       "        (layers): Sequential(\n",
       "          (0): Conv2d(3, 64, kernel_size=(3, 3), stride=(1, 1), padding=(1, 1))\n",
       "          (1): BatchNorm2d(64, eps=1e-05, momentum=0.1, affine=True, track_running_stats=True)\n",
       "          (2): ReLU(inplace=True)\n",
       "        )\n",
       "      )\n",
       "      (1): ConvBNRelu(\n",
       "        (layers): Sequential(\n",
       "          (0): Conv2d(64, 64, kernel_size=(3, 3), stride=(1, 1), padding=(1, 1))\n",
       "          (1): BatchNorm2d(64, eps=1e-05, momentum=0.1, affine=True, track_running_stats=True)\n",
       "          (2): ReLU(inplace=True)\n",
       "        )\n",
       "      )\n",
       "      (2): ConvBNRelu(\n",
       "        (layers): Sequential(\n",
       "          (0): Conv2d(64, 64, kernel_size=(3, 3), stride=(1, 1), padding=(1, 1))\n",
       "          (1): BatchNorm2d(64, eps=1e-05, momentum=0.1, affine=True, track_running_stats=True)\n",
       "          (2): ReLU(inplace=True)\n",
       "        )\n",
       "      )\n",
       "      (3): ConvBNRelu(\n",
       "        (layers): Sequential(\n",
       "          (0): Conv2d(64, 64, kernel_size=(3, 3), stride=(1, 1), padding=(1, 1))\n",
       "          (1): BatchNorm2d(64, eps=1e-05, momentum=0.1, affine=True, track_running_stats=True)\n",
       "          (2): ReLU(inplace=True)\n",
       "        )\n",
       "      )\n",
       "    )\n",
       "    (after_concat_layer): ConvBNRelu(\n",
       "      (layers): Sequential(\n",
       "        (0): Conv2d(115, 64, kernel_size=(3, 3), stride=(1, 1), padding=(1, 1))\n",
       "        (1): BatchNorm2d(64, eps=1e-05, momentum=0.1, affine=True, track_running_stats=True)\n",
       "        (2): ReLU(inplace=True)\n",
       "      )\n",
       "    )\n",
       "    (final_layer): Conv2d(64, 3, kernel_size=(1, 1), stride=(1, 1))\n",
       "  )\n",
       "  (noiser): Noiser()\n",
       "  (decoder): Decoder(\n",
       "    (layers): Sequential(\n",
       "      (0): ConvBNRelu(\n",
       "        (layers): Sequential(\n",
       "          (0): Conv2d(3, 64, kernel_size=(3, 3), stride=(1, 1), padding=(1, 1))\n",
       "          (1): BatchNorm2d(64, eps=1e-05, momentum=0.1, affine=True, track_running_stats=True)\n",
       "          (2): ReLU(inplace=True)\n",
       "        )\n",
       "      )\n",
       "      (1): ConvBNRelu(\n",
       "        (layers): Sequential(\n",
       "          (0): Conv2d(64, 64, kernel_size=(3, 3), stride=(1, 1), padding=(1, 1))\n",
       "          (1): BatchNorm2d(64, eps=1e-05, momentum=0.1, affine=True, track_running_stats=True)\n",
       "          (2): ReLU(inplace=True)\n",
       "        )\n",
       "      )\n",
       "      (2): ConvBNRelu(\n",
       "        (layers): Sequential(\n",
       "          (0): Conv2d(64, 64, kernel_size=(3, 3), stride=(1, 1), padding=(1, 1))\n",
       "          (1): BatchNorm2d(64, eps=1e-05, momentum=0.1, affine=True, track_running_stats=True)\n",
       "          (2): ReLU(inplace=True)\n",
       "        )\n",
       "      )\n",
       "      (3): ConvBNRelu(\n",
       "        (layers): Sequential(\n",
       "          (0): Conv2d(64, 64, kernel_size=(3, 3), stride=(1, 1), padding=(1, 1))\n",
       "          (1): BatchNorm2d(64, eps=1e-05, momentum=0.1, affine=True, track_running_stats=True)\n",
       "          (2): ReLU(inplace=True)\n",
       "        )\n",
       "      )\n",
       "      (4): ConvBNRelu(\n",
       "        (layers): Sequential(\n",
       "          (0): Conv2d(64, 64, kernel_size=(3, 3), stride=(1, 1), padding=(1, 1))\n",
       "          (1): BatchNorm2d(64, eps=1e-05, momentum=0.1, affine=True, track_running_stats=True)\n",
       "          (2): ReLU(inplace=True)\n",
       "        )\n",
       "      )\n",
       "      (5): ConvBNRelu(\n",
       "        (layers): Sequential(\n",
       "          (0): Conv2d(64, 64, kernel_size=(3, 3), stride=(1, 1), padding=(1, 1))\n",
       "          (1): BatchNorm2d(64, eps=1e-05, momentum=0.1, affine=True, track_running_stats=True)\n",
       "          (2): ReLU(inplace=True)\n",
       "        )\n",
       "      )\n",
       "      (6): ConvBNRelu(\n",
       "        (layers): Sequential(\n",
       "          (0): Conv2d(64, 64, kernel_size=(3, 3), stride=(1, 1), padding=(1, 1))\n",
       "          (1): BatchNorm2d(64, eps=1e-05, momentum=0.1, affine=True, track_running_stats=True)\n",
       "          (2): ReLU(inplace=True)\n",
       "        )\n",
       "      )\n",
       "      (7): ConvBNRelu(\n",
       "        (layers): Sequential(\n",
       "          (0): Conv2d(64, 48, kernel_size=(3, 3), stride=(1, 1), padding=(1, 1))\n",
       "          (1): BatchNorm2d(48, eps=1e-05, momentum=0.1, affine=True, track_running_stats=True)\n",
       "          (2): ReLU(inplace=True)\n",
       "        )\n",
       "      )\n",
       "      (8): AdaptiveAvgPool2d(output_size=(1, 1))\n",
       "    )\n",
       "    (linear): Linear(in_features=48, out_features=48, bias=True)\n",
       "  )\n",
       ")"
      ]
     },
     "execution_count": 114,
     "metadata": {},
     "output_type": "execute_result"
    }
   ],
   "source": [
    "checkpoint, chpt_file_name = utils.load_checkpoint('/tmp2/jimmyliu/HiDDeN_experiment/ss_HiDDeN/runs/combined-baseline-256-adam-mse 2023.05.26--16-28-10/checkpoints/combined-baseline-256-adam-mse--epoch-104.pyt')\n",
    "print(f'Loaded checkpoint from file {chpt_file_name}')\n",
    "\n",
    "noiser = Noiser(noise_config,device)\n",
    "model = Hidden(hidden_config, device, noiser, tb_logger=None,train_options=train_options)\n",
    "utils.model_from_checkpoint(model, checkpoint)\n",
    "model.encoder_decoder.eval()"
   ]
  },
  {
   "cell_type": "code",
   "execution_count": 115,
   "metadata": {},
   "outputs": [],
   "source": [
    "_, val_data = utils.get_data_loaders(hidden_config, train_options)\n",
    "file_count = len(val_data.dataset)\n",
    "if file_count % train_options.batch_size == 0:\n",
    "            steps_in_epoch = file_count // train_options.batch_size\n",
    "else:\n",
    "    steps_in_epoch = file_count // train_options.batch_size + 1"
   ]
  },
  {
   "cell_type": "code",
   "execution_count": 116,
   "metadata": {},
   "outputs": [
    {
     "name": "stdout",
     "output_type": "stream",
     "text": [
      "10000\n"
     ]
    }
   ],
   "source": [
    "print(file_count)"
   ]
  },
  {
   "cell_type": "code",
   "execution_count": 117,
   "metadata": {},
   "outputs": [],
   "source": [
    "\n",
    "step = 0\n",
    "losses_accu={}\n",
    "\n",
    "ori_list_arr=[]\n",
    "with torch.no_grad():\n",
    "    for image, _ in val_data:\n",
    "        \n",
    "        image = image.to(device)\n",
    "        #message = torch.Tensor(np.random.choice([0, 1], (image.shape[0], hidden_config.message_length))).to(device)\n",
    "        decoded_messages= model.encoder_decoder.decoder(image)\n",
    "        #decoded_messages=torch.sigmoid(decoded_messages)\n",
    "        if step==0:\n",
    "            ori_list_arr=decoded_messages.detach().cpu()\n",
    "        else:\n",
    "            ori_list_arr=torch.cat( (ori_list_arr,decoded_messages.detach().cpu()),0 )\n",
    "\n",
    "\n",
    "\n",
    "        step += 1\n",
    "        '''\n",
    "        if step >=2:\n",
    "            break\n",
    "        '''"
   ]
  },
  {
   "cell_type": "code",
   "execution_count": 118,
   "metadata": {},
   "outputs": [],
   "source": [
    "\n",
    "if round:\n",
    "    ruond_ori_list_arr=ori_list_arr.round().clip(0, 1)\n",
    "\n",
    "miu=torch.mean(ori_list_arr, 0)\n",
    "round_miu=torch.mean(ruond_ori_list_arr, 0)"
   ]
  },
  {
   "cell_type": "code",
   "execution_count": 119,
   "metadata": {},
   "outputs": [
    {
     "name": "stdout",
     "output_type": "stream",
     "text": [
      "tensor(0.4815)\n",
      "tensor(0.4275)\n",
      "tensor([0.6125, 0.3197, 0.3167, 0.6603, 0.5052, 0.4505, 0.4465, 0.7151, 0.5793,\n",
      "        0.4692, 0.4381, 0.3727, 0.4873, 0.3706, 0.6493, 0.4408, 0.3981, 0.4677,\n",
      "        0.4504, 0.5344, 0.6927, 0.5180, 0.4296, 0.5938, 0.4709, 0.8431, 0.3889,\n",
      "        0.3563, 0.2089, 0.5773, 0.4815, 0.5769, 0.4213, 0.5802, 0.5705, 0.5844,\n",
      "        0.4400, 0.3169, 0.3615, 0.3930, 0.5013, 0.4074, 0.2804, 0.5841, 0.5023,\n",
      "        0.2676, 0.6780, 0.4028])\n",
      "tensor([0.8516, 0.0208, 0.0228, 0.9787, 0.5445, 0.2799, 0.1259, 0.9884, 0.7796,\n",
      "        0.3445, 0.1467, 0.0186, 0.4079, 0.0531, 0.9656, 0.2302, 0.0429, 0.3628,\n",
      "        0.2287, 0.6869, 0.9779, 0.6257, 0.1123, 0.9605, 0.3874, 0.9979, 0.1015,\n",
      "        0.0532, 0.0024, 0.7768, 0.4231, 0.9012, 0.0983, 0.9460, 0.8680, 0.8413,\n",
      "        0.1659, 0.0110, 0.0984, 0.0615, 0.4936, 0.0546, 0.0103, 0.8310, 0.5592,\n",
      "        0.0114, 0.9865, 0.0833])\n"
     ]
    }
   ],
   "source": [
    "print(miu.mean())\n",
    "print(round_miu.mean())\n",
    "print(miu)\n",
    "print(round_miu)"
   ]
  },
  {
   "cell_type": "code",
   "execution_count": 120,
   "metadata": {},
   "outputs": [
    {
     "data": {
      "text/plain": [
       "tensor([[0.6130, 0.4598, 0.1670,  ..., 0.3596, 0.7207, 0.3966],\n",
       "        [0.7536, 0.4022, 0.3086,  ..., 0.3559, 0.6889, 0.4750],\n",
       "        [0.7496, 0.1116, 0.2151,  ..., 0.0615, 0.6291, 0.5394],\n",
       "        ...,\n",
       "        [0.6388, 0.3934, 0.3473,  ..., 0.3057, 0.7314, 0.3962],\n",
       "        [0.5463, 0.3473, 0.3162,  ..., 0.2873, 0.6211, 0.4327],\n",
       "        [0.8155, 0.1544, 0.2214,  ..., 0.0061, 0.8271, 0.4312]])"
      ]
     },
     "execution_count": 120,
     "metadata": {},
     "output_type": "execute_result"
    }
   ],
   "source": [
    "ori_list_arr"
   ]
  },
  {
   "cell_type": "code",
   "execution_count": 121,
   "metadata": {},
   "outputs": [
    {
     "data": {
      "image/png": "[encoded data removed]",
      "text/plain": [
       "<Figure size 640x480 with 2 Axes>"
      ]
     },
     "metadata": {},
     "output_type": "display_data"
    }
   ],
   "source": [
    "conv_matrix=torch.cov(ori_list_arr.T)\n",
    "\n",
    "#plt.matshow(conv_matrix, cmap=plt.cm.Blues)\n",
    "plt.imshow(conv_matrix,vmin=-0.05,vmax=0.3,cmap=\"RdYlBu_r\")\n",
    "plt.colorbar()\n",
    "\n",
    "plt.show()\n",
    "\n"
   ]
  },
  {
   "cell_type": "code",
   "execution_count": 149,
   "metadata": {},
   "outputs": [
    {
     "name": "stdout",
     "output_type": "stream",
     "text": [
      "tensor(0.3301)\n"
     ]
    }
   ],
   "source": [
    "ori_diag=torch.sum(torch.diag(conv_matrix))\n",
    "print(torch.sum(torch.diag(conv_matrix)))"
   ]
  },
  {
   "cell_type": "code",
   "execution_count": 122,
   "metadata": {},
   "outputs": [
    {
     "data": {
      "image/png": "[encoded data removed]",
      "text/plain": [
       "<Figure size 640x480 with 2 Axes>"
      ]
     },
     "metadata": {},
     "output_type": "display_data"
    }
   ],
   "source": [
    "round_conv_matrix=torch.cov(ruond_ori_list_arr.T)\n",
    "\n",
    "#plt.matshow(conv_matrix, cmap=plt.cm.Blues)\n",
    "plt.imshow(round_conv_matrix,vmin=-0.05,vmax=0.3,cmap=\"RdYlBu_r\")\n",
    "plt.colorbar()\n",
    "\n",
    "plt.show()"
   ]
  },
  {
   "cell_type": "code",
   "execution_count": 123,
   "metadata": {},
   "outputs": [
    {
     "name": "stdout",
     "output_type": "stream",
     "text": [
      "tensor([[ True,  True,  True,  ...,  True,  True,  True],\n",
      "        [ True,  True,  True,  ...,  True, False,  True],\n",
      "        [ True,  True,  True,  ...,  True,  True,  True],\n",
      "        ...,\n",
      "        [ True,  True,  True,  ...,  True,  True,  True],\n",
      "        [ True, False,  True,  ...,  True,  True,  True],\n",
      "        [ True,  True,  True,  ...,  True,  True,  True]])\n"
     ]
    }
   ],
   "source": [
    "print(round_conv_matrix.T == round_conv_matrix)"
   ]
  },
  {
   "cell_type": "code",
   "execution_count": 124,
   "metadata": {},
   "outputs": [
    {
     "name": "stdout",
     "output_type": "stream",
     "text": [
      "tensor(True)\n"
     ]
    }
   ],
   "source": [
    "conv_matrix=(conv_matrix.T+conv_matrix)/2\n",
    "print(torch.all(conv_matrix.T == conv_matrix))"
   ]
  },
  {
   "cell_type": "code",
   "execution_count": 125,
   "metadata": {},
   "outputs": [
    {
     "data": {
      "text/plain": [
       "Linear(in_features=48, out_features=48, bias=True)"
      ]
     },
     "execution_count": 125,
     "metadata": {},
     "output_type": "execute_result"
    }
   ],
   "source": [
    "L, V = torch.linalg.eig(conv_matrix)\n",
    "#L, V = torch.linalg.eigh(conv_matrix)\n",
    "L_matrix=torch.diag_embed(1/torch.sqrt(L))\n",
    "#b=-(L_matrix@V.T).to(torch.float)@(\n",
    "# \n",
    "# -0.5)\n",
    "b=-(L_matrix@V.T).to(torch.float)@miu\n",
    "w=(L_matrix@V.T).to(torch.float)\n",
    "b=(b+1.)/2.\n",
    "w=w/2.\n",
    "eig_whitening_layer=nn.Linear(48,48)\n",
    "eig_whitening_layer.weight=nn.Parameter(w)\n",
    "eig_whitening_layer.bias=nn.Parameter(b)\n",
    "eig_whitening_layer=eig_whitening_layer.to(device)\n",
    "eig_whitening_layer.eval()"
   ]
  },
  {
   "cell_type": "code",
   "execution_count": 126,
   "metadata": {},
   "outputs": [
    {
     "data": {
      "text/plain": [
       "Linear(in_features=48, out_features=48, bias=True)"
      ]
     },
     "execution_count": 126,
     "metadata": {},
     "output_type": "execute_result"
    }
   ],
   "source": [
    "#L, V = torch.linalg.eig(conv_matrix)\n",
    "L, V = torch.linalg.eigh(conv_matrix)\n",
    "L_matrix=torch.diag_embed(1/torch.sqrt(L))\n",
    "\n",
    "#b=-(L_matrix@V.T).to(torch.float)@(miu-0.5)\n",
    "b=-(L_matrix@V.T)@miu\n",
    "w=(L_matrix@V.T)\n",
    "b=(b+1.)/2.\n",
    "w=w/2.\n",
    "eigh_whitening_layer=nn.Linear(48,48)\n",
    "eigh_whitening_layer.weight=nn.Parameter(w)\n",
    "eigh_whitening_layer.bias=nn.Parameter(b)\n",
    "eigh_whitening_layer=eigh_whitening_layer.to(device)\n",
    "eigh_whitening_layer.eval()"
   ]
  },
  {
   "cell_type": "code",
   "execution_count": 127,
   "metadata": {},
   "outputs": [],
   "source": [
    "#eig_whitening_layer=torch.load('/tmp2/jimmyliu/whiten.pt')\n",
    "#eig_whitening_layer.eval()\n",
    "#eig_whitening_layer=eig_whitening_layer.to(device)"
   ]
  },
  {
   "cell_type": "code",
   "execution_count": 128,
   "metadata": {},
   "outputs": [],
   "source": [
    "\n",
    "step = 0\n",
    "losses_accu={}\n",
    "\n",
    "eig_list_arr=[]\n",
    "\n",
    "eigh_list_arr=[]\n",
    "with torch.no_grad():\n",
    "    for image, _ in val_data:\n",
    "        \n",
    "        image = image.to(device)\n",
    "        #message = torch.Tensor(np.random.choice([0, 1], (image.shape[0], hidden_config.message_length))).to(device)\n",
    "        decoded_messages= model.encoder_decoder.decoder(image)\n",
    "        #decoded_messages=torch.sigmoid(decoded_messages)\n",
    "        eig_decoded_messages=eig_whitening_layer(decoded_messages)\n",
    "        eigh_decoded_messages=eigh_whitening_layer(decoded_messages)\n",
    "\n",
    "\n",
    "        if step==0:\n",
    "            eig_list_arr=eig_decoded_messages.detach().cpu()\n",
    "            eigh_list_arr=eigh_decoded_messages.detach().cpu()\n",
    "        else:\n",
    "            eig_list_arr=torch.cat( (eig_list_arr,eig_decoded_messages.detach().cpu()),0 )\n",
    "            eigh_list_arr=torch.cat( (eigh_list_arr,eigh_decoded_messages.detach().cpu()),0 )\n",
    "\n",
    "\n",
    "\n",
    "        step += 1\n",
    "       "
   ]
  },
  {
   "cell_type": "code",
   "execution_count": 129,
   "metadata": {},
   "outputs": [
    {
     "name": "stdout",
     "output_type": "stream",
     "text": [
      "tensor([[0.5463, 0.3473, 0.3162, 0.7173, 0.4792, 0.5316, 0.4636, 0.8168, 0.4782,\n",
      "         0.5222, 0.3870, 0.3380, 0.4662, 0.4225, 0.6746, 0.3828, 0.4094, 0.5898,\n",
      "         0.5034, 0.5129, 0.5668, 0.5745, 0.5474, 0.5450, 0.4927, 0.8458, 0.4244,\n",
      "         0.3199, 0.2366, 0.5780, 0.4036, 0.5490, 0.3867, 0.6318, 0.4896, 0.5946,\n",
      "         0.4678, 0.3253, 0.4762, 0.2860, 0.5191, 0.4330, 0.2349, 0.5037, 0.4633,\n",
      "         0.2873, 0.6211, 0.4327],\n",
      "        [0.8155, 0.1544, 0.2214, 0.7276, 0.5997, 0.4391, 0.5120, 0.8804, 0.7513,\n",
      "         0.3936, 0.4996, 0.3864, 0.5124, 0.2265, 0.5192, 0.5425, 0.3771, 0.4216,\n",
      "         0.3013, 0.3558, 0.9209, 0.3619, 0.4173, 0.5997, 0.3472, 0.8318, 0.2633,\n",
      "         0.2870, 0.1990, 0.7080, 0.4333, 0.6226, 0.2953, 0.5325, 0.6201, 0.7510,\n",
      "         0.3529, 0.0463, 0.1942, 0.4145, 0.4525, 0.3533, 0.2609, 0.7496, 0.4904,\n",
      "         0.0061, 0.8271, 0.4312]], device='cuda:0')\n"
     ]
    }
   ],
   "source": [
    "print(decoded_messages)"
   ]
  },
  {
   "cell_type": "code",
   "execution_count": 130,
   "metadata": {},
   "outputs": [
    {
     "name": "stdout",
     "output_type": "stream",
     "text": [
      "tensor([[ 0.9183,  0.3916,  0.5027,  0.0381,  0.5360,  0.1794,  0.8584,  0.9070,\n",
      "          0.9325,  0.9061,  0.8398, -0.1810,  0.6640,  0.0603,  1.2009,  0.7655,\n",
      "          0.2554,  1.2328,  0.1478,  0.2495,  0.4003,  0.1978,  0.9142,  0.2217,\n",
      "          0.7217,  0.1237, -0.3615,  0.5545,  0.2013,  0.5999,  0.3645,  0.9981,\n",
      "          0.2115, -0.5523,  1.0120,  0.6816,  0.9543,  1.4635,  0.1484,  0.1930,\n",
      "         -0.0620, -0.0637,  0.3399,  0.3688,  0.9092, -0.6053,  1.6585,  0.8839],\n",
      "        [-0.6086,  0.5858,  0.8550,  0.1634,  0.6798, -0.2551,  1.8248,  0.5357,\n",
      "         -0.8970,  0.5416,  0.5482,  1.6960, -0.2226,  0.5173,  0.1900,  1.4590,\n",
      "          0.3474,  1.2005,  1.0485,  0.4666,  0.2465, -0.1510,  0.5000,  0.0413,\n",
      "          0.1651, -0.3314,  0.3489,  0.8597,  1.0297,  0.6555,  0.2392,  0.5367,\n",
      "          0.9387,  1.3441,  0.1774,  0.4331,  1.1469, -0.0362,  0.3392,  0.6188,\n",
      "          0.4235,  0.9756,  0.1831,  0.0647,  0.9381,  0.2813,  0.5802, -0.1996]],\n",
      "       device='cuda:0')\n"
     ]
    }
   ],
   "source": [
    "print(eig_decoded_messages)"
   ]
  },
  {
   "cell_type": "code",
   "execution_count": 131,
   "metadata": {},
   "outputs": [],
   "source": [
    "noround_eig_miu=torch.mean(eig_list_arr, 0)\n",
    "noround_eigh_miu=torch.mean(eigh_list_arr, 0)\n",
    "\n",
    "#eig_list_arr=eig_list_arr/2+0.5\n",
    "#eigh_list_arr=eigh_list_arr/2+0.5\n",
    "if round:\n",
    "    round_eig_list_arr=eig_list_arr.round().clip(0, 1)\n",
    "    round_eigh_list_arr=eigh_list_arr.round().clip(0, 1)\n",
    "\n"
   ]
  },
  {
   "cell_type": "code",
   "execution_count": 146,
   "metadata": {},
   "outputs": [
    {
     "data": {
      "image/png": "[encoded data removed]",
      "text/plain": [
       "<Figure size 640x480 with 2 Axes>"
      ]
     },
     "metadata": {},
     "output_type": "display_data"
    }
   ],
   "source": [
    "eig_conv_matrix=torch.cov((eig_list_arr).T)\n",
    "#plt.imshow(eig_conv_matrix,vmin=-0.05,vmax=0.3,cmap=\"RdYlBu_r\")\n",
    "plt.imshow(eig_conv_matrix,vmin=-0.05,vmax=0.3,cmap=\"RdYlBu_r\")\n",
    "plt.colorbar()\n",
    "\n",
    "plt.show()"
   ]
  },
  {
   "cell_type": "code",
   "execution_count": 147,
   "metadata": {},
   "outputs": [
    {
     "name": "stdout",
     "output_type": "stream",
     "text": [
      "tensor([0.2500, 0.2500, 0.2500, 0.2500, 0.2500, 0.2500, 0.2500, 0.2500, 0.2500,\n",
      "        0.2500, 0.2500, 0.2500, 0.2500, 0.2500, 0.2500, 0.2500, 0.2500, 0.2500,\n",
      "        0.2500, 0.2500, 0.2500, 0.2737, 0.2558, 0.2500, 0.2500, 0.2501, 0.2500,\n",
      "        0.2500, 0.2500, 0.2501, 0.2500, 0.2500, 0.2500, 0.2500, 0.2500, 0.2500,\n",
      "        0.2500, 0.2500, 0.2500, 0.2500, 0.2500, 0.2500, 0.2500, 0.2500, 0.2500,\n",
      "        0.2500, 0.2500, 0.2499])\n"
     ]
    }
   ],
   "source": [
    "print(torch.diag(eig_conv_matrix))"
   ]
  },
  {
   "cell_type": "code",
   "execution_count": 143,
   "metadata": {},
   "outputs": [
    {
     "data": {
      "image/png": "[encoded data removed]",
      "text/plain": [
       "<Figure size 640x480 with 2 Axes>"
      ]
     },
     "metadata": {},
     "output_type": "display_data"
    }
   ],
   "source": [
    "eigh_conv_matrix=torch.cov((round_eigh_list_arr).T)\n",
    "plt.imshow(eigh_conv_matrix,vmin=-0.05,vmax=0.3,cmap=\"RdYlBu_r\")\n",
    "plt.colorbar()\n",
    "\n",
    "plt.show()"
   ]
  },
  {
   "cell_type": "code",
   "execution_count": 150,
   "metadata": {},
   "outputs": [
    {
     "name": "stdout",
     "output_type": "stream",
     "text": [
      "tensor([0.2500, 0.2500, 0.2500, 0.2500, 0.2500, 0.2500, 0.2500, 0.2500, 0.2500,\n",
      "        0.2500, 0.2500, 0.2500, 0.2500, 0.2500, 0.2500, 0.2500, 0.2500, 0.2500,\n",
      "        0.2500, 0.2500, 0.2500, 0.2737, 0.2558, 0.2500, 0.2500, 0.2501, 0.2500,\n",
      "        0.2500, 0.2500, 0.2501, 0.2500, 0.2500, 0.2500, 0.2500, 0.2500, 0.2500,\n",
      "        0.2500, 0.2500, 0.2500, 0.2500, 0.2500, 0.2500, 0.2500, 0.2500, 0.2500,\n",
      "        0.2500, 0.2500, 0.2499])\n",
      "tensor([0.1989, 0.2463, 0.2500, 0.2500, 0.2500, 0.2500, 0.2500, 0.2499, 0.2500,\n",
      "        0.2500, 0.2500, 0.2500, 0.2500, 0.2499, 0.2500, 0.2500, 0.2500, 0.2500,\n",
      "        0.2500, 0.2499, 0.2500, 0.2500, 0.2500, 0.2500, 0.2500, 0.2500, 0.2499,\n",
      "        0.2500, 0.2500, 0.2500, 0.2500, 0.2500, 0.2500, 0.2499, 0.2498, 0.2500,\n",
      "        0.2496, 0.2495, 0.2500, 0.2497, 0.2499, 0.2494, 0.2499, 0.2499, 0.2497,\n",
      "        0.2500, 0.2496, 0.2500])\n",
      "tensor(12.0297)\n",
      "tensor(11.9418)\n"
     ]
    }
   ],
   "source": [
    "print(torch.diag(eig_conv_matrix))\n",
    "print(torch.diag(eigh_conv_matrix))\n",
    "print(torch.sum(torch.diag(eig_conv_matrix)))\n",
    "print(torch.sum(torch.diag(eigh_conv_matrix)))\n"
   ]
  },
  {
   "cell_type": "code",
   "execution_count": 152,
   "metadata": {},
   "outputs": [
    {
     "name": "stdout",
     "output_type": "stream",
     "text": [
      "36.35262041805513\n"
     ]
    }
   ],
   "source": [
    "print(12/0.3301)"
   ]
  },
  {
   "cell_type": "code",
   "execution_count": 136,
   "metadata": {},
   "outputs": [
    {
     "name": "stdout",
     "output_type": "stream",
     "text": [
      "tensor(0.4930)\n",
      "tensor(0.4933)\n"
     ]
    }
   ],
   "source": [
    "print(noround_eig_miu.mean())\n",
    "print(noround_eigh_miu.mean())"
   ]
  },
  {
   "cell_type": "code",
   "execution_count": 140,
   "metadata": {},
   "outputs": [],
   "source": [
    "torch.save(eigh_whitening_layer,'../whiten_checkpoint/first_104.pt')"
   ]
  },
  {
   "cell_type": "code",
   "execution_count": 138,
   "metadata": {},
   "outputs": [],
   "source": [
    "#eig_whitening_layer=torch.load('eig.pt')"
   ]
  }
 ],
 "metadata": {
  "kernelspec": {
   "display_name": "ldm",
   "language": "python",
   "name": "python3"
  },
  "language_info": {
   "codemirror_mode": {
    "name": "ipython",
    "version": 3
   },
   "file_extension": ".py",
   "mimetype": "text/x-python",
   "name": "python",
   "nbconvert_exporter": "python",
   "pygments_lexer": "ipython3",
   "version": "3.8.5"
  },
  "orig_nbformat": 4
 },
 "nbformat": 4,
 "nbformat_minor": 2
}
