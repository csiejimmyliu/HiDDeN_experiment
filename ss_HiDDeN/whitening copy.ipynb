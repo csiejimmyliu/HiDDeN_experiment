{
 "cells": [
  {
   "cell_type": "code",
   "execution_count": 1,
   "metadata": {},
   "outputs": [
    {
     "name": "stderr",
     "output_type": "stream",
     "text": [
      "/home/master/10/jimmyliu/miniconda3/envs/ldm/lib/python3.8/site-packages/tqdm/auto.py:21: TqdmWarning: IProgress not found. Please update jupyter and ipywidgets. See https://ipywidgets.readthedocs.io/en/stable/user_install.html\n",
      "  from .autonotebook import tqdm as notebook_tqdm\n"
     ]
    }
   ],
   "source": [
    "import os\n",
    "import time\n",
    "import pprint\n",
    "import argparse\n",
    "import torch\n",
    "import numpy as np\n",
    "import pickle\n",
    "import utils\n",
    "import csv\n",
    "\n",
    "from model.hidden import Hidden\n",
    "from noise_layers.noiser import Noiser\n",
    "from average_meter import AverageMeter\n",
    "from noise_argparser import NoiseArgParser\n",
    "\n",
    "import torch.nn as nn\n",
    "import numpy as np\n",
    "import matplotlib.pyplot as plt"
   ]
  },
  {
   "cell_type": "code",
   "execution_count": 2,
   "metadata": {},
   "outputs": [],
   "source": [
    "m, n = 100, 2\n",
    "# generate random data, with arbitrary covariance\n",
    "X = np.random.multivariate_normal([0 for i in range(n)], np.array([[1, 0.8], [0.8, 1]]), size=m)\n",
    "X = X - X.mean(axis=0) # cener the data"
   ]
  },
  {
   "cell_type": "code",
   "execution_count": 13,
   "metadata": {},
   "outputs": [
    {
     "name": "stdout",
     "output_type": "stream",
     "text": [
      "torch.Size([100, 2])\n",
      "(2, 2)\n",
      "[2.37811949 0.16247392]\n",
      "[[1.28924364 1.10766075]\n",
      " [1.10766075 1.25134977]]\n",
      "[[1.28924364 1.10766075]\n",
      " [1.10766075 1.25134977]]\n"
     ]
    }
   ],
   "source": [
    "print(X.shape)\n",
    "C= np.cov(X.T)\n",
    "print(C.shape)\n",
    "eig_vals, eig_vecs = np.linalg.eig(C)\n",
    "print(eig_vals)\n",
    "D = np.diag(eig_vals) # eig_vals is a vector, but we want a matrix\n",
    "P = eig_vecs\n",
    "print(C)\n",
    "print(P@D@P.T)"
   ]
  },
  {
   "cell_type": "code",
   "execution_count": 18,
   "metadata": {},
   "outputs": [
    {
     "name": "stdout",
     "output_type": "stream",
     "text": [
      "torch.Size([100, 2])\n",
      "torch.Size([2, 2])\n",
      "tensor([0.1625, 2.3781], dtype=torch.float64)\n",
      "tensor([[1.2892, 1.1077],\n",
      "        [1.1077, 1.2513]], dtype=torch.float64)\n",
      "tensor([[1.2892, 1.1077],\n",
      "        [1.1077, 1.2513]], dtype=torch.float64)\n"
     ]
    },
    {
     "name": "stderr",
     "output_type": "stream",
     "text": [
      "/tmp/ipykernel_32503/228613615.py:2: UserWarning: To copy construct from a tensor, it is recommended to use sourceTensor.clone().detach() or sourceTensor.clone().detach().requires_grad_(True), rather than torch.tensor(sourceTensor).\n",
      "  X=torch.tensor(X)\n"
     ]
    }
   ],
   "source": [
    "print(X.shape)\n",
    "X=torch.tensor(X)\n",
    "C= torch.cov(X.T)\n",
    "print(C.shape)\n",
    "eig_vals, eig_vecs = torch.linalg.eigh(C)\n",
    "print(eig_vals)\n",
    "D = torch.diag(eig_vals) # eig_vals is a vector, but we want a matrix\n",
    "P = eig_vecs\n",
    "print(C)\n",
    "print(P@D@P.T)"
   ]
  },
  {
   "cell_type": "code",
   "execution_count": 13,
   "metadata": {},
   "outputs": [],
   "source": [
    "data_dir='/tmp2/jimmyliu/HiDDeN_experiment/dataset_10000'\n",
    "current_run='/tmp2/jimmyliu/HiDDeN_experiment/ss_HiDDeN/runs/combined-noise-256-adam 2023.05.20--02-44-07'\n",
    "batch_size=2\n",
    "round=True\n",
    "\n",
    "device = torch.device('cuda') if torch.cuda.is_available() else torch.device('cpu')\n",
    "options_file = os.path.join(current_run, 'options-and-config.pickle')\n",
    "train_options, hidden_config, _ = utils.load_options(options_file)\n",
    "train_options.train_folder = os.path.join(data_dir, 'val')\n",
    "train_options.validation_folder = os.path.join(data_dir, 'train')\n",
    "train_options.batch_size = batch_size\n",
    "noise_config=[]"
   ]
  },
  {
   "cell_type": "code",
   "execution_count": 14,
   "metadata": {},
   "outputs": [
    {
     "name": "stdout",
     "output_type": "stream",
     "text": [
      "Loaded checkpoint from file /tmp2/jimmyliu/HiDDeN_experiment/ss_HiDDeN/runs/combined-noise-256-adam 2023.05.20--02-44-07/checkpoints/combined-noise-256-adam--epoch-33.pyt\n"
     ]
    },
    {
     "data": {
      "text/plain": [
       "EncoderDecoder(\n",
       "  (encoder): Encoder(\n",
       "    (conv_layers): Sequential(\n",
       "      (0): ConvBNRelu(\n",
       "        (layers): Sequential(\n",
       "          (0): Conv2d(3, 64, kernel_size=(3, 3), stride=(1, 1), padding=(1, 1))\n",
       "          (1): BatchNorm2d(64, eps=1e-05, momentum=0.1, affine=True, track_running_stats=True)\n",
       "          (2): ReLU(inplace=True)\n",
       "        )\n",
       "      )\n",
       "      (1): ConvBNRelu(\n",
       "        (layers): Sequential(\n",
       "          (0): Conv2d(64, 64, kernel_size=(3, 3), stride=(1, 1), padding=(1, 1))\n",
       "          (1): BatchNorm2d(64, eps=1e-05, momentum=0.1, affine=True, track_running_stats=True)\n",
       "          (2): ReLU(inplace=True)\n",
       "        )\n",
       "      )\n",
       "      (2): ConvBNRelu(\n",
       "        (layers): Sequential(\n",
       "          (0): Conv2d(64, 64, kernel_size=(3, 3), stride=(1, 1), padding=(1, 1))\n",
       "          (1): BatchNorm2d(64, eps=1e-05, momentum=0.1, affine=True, track_running_stats=True)\n",
       "          (2): ReLU(inplace=True)\n",
       "        )\n",
       "      )\n",
       "      (3): ConvBNRelu(\n",
       "        (layers): Sequential(\n",
       "          (0): Conv2d(64, 64, kernel_size=(3, 3), stride=(1, 1), padding=(1, 1))\n",
       "          (1): BatchNorm2d(64, eps=1e-05, momentum=0.1, affine=True, track_running_stats=True)\n",
       "          (2): ReLU(inplace=True)\n",
       "        )\n",
       "      )\n",
       "    )\n",
       "    (after_concat_layer): ConvBNRelu(\n",
       "      (layers): Sequential(\n",
       "        (0): Conv2d(115, 64, kernel_size=(3, 3), stride=(1, 1), padding=(1, 1))\n",
       "        (1): BatchNorm2d(64, eps=1e-05, momentum=0.1, affine=True, track_running_stats=True)\n",
       "        (2): ReLU(inplace=True)\n",
       "      )\n",
       "    )\n",
       "    (final_layer): Conv2d(64, 3, kernel_size=(1, 1), stride=(1, 1))\n",
       "  )\n",
       "  (noiser): Noiser()\n",
       "  (decoder): Decoder(\n",
       "    (layers): Sequential(\n",
       "      (0): ConvBNRelu(\n",
       "        (layers): Sequential(\n",
       "          (0): Conv2d(3, 64, kernel_size=(3, 3), stride=(1, 1), padding=(1, 1))\n",
       "          (1): BatchNorm2d(64, eps=1e-05, momentum=0.1, affine=True, track_running_stats=True)\n",
       "          (2): ReLU(inplace=True)\n",
       "        )\n",
       "      )\n",
       "      (1): ConvBNRelu(\n",
       "        (layers): Sequential(\n",
       "          (0): Conv2d(64, 64, kernel_size=(3, 3), stride=(1, 1), padding=(1, 1))\n",
       "          (1): BatchNorm2d(64, eps=1e-05, momentum=0.1, affine=True, track_running_stats=True)\n",
       "          (2): ReLU(inplace=True)\n",
       "        )\n",
       "      )\n",
       "      (2): ConvBNRelu(\n",
       "        (layers): Sequential(\n",
       "          (0): Conv2d(64, 64, kernel_size=(3, 3), stride=(1, 1), padding=(1, 1))\n",
       "          (1): BatchNorm2d(64, eps=1e-05, momentum=0.1, affine=True, track_running_stats=True)\n",
       "          (2): ReLU(inplace=True)\n",
       "        )\n",
       "      )\n",
       "      (3): ConvBNRelu(\n",
       "        (layers): Sequential(\n",
       "          (0): Conv2d(64, 64, kernel_size=(3, 3), stride=(1, 1), padding=(1, 1))\n",
       "          (1): BatchNorm2d(64, eps=1e-05, momentum=0.1, affine=True, track_running_stats=True)\n",
       "          (2): ReLU(inplace=True)\n",
       "        )\n",
       "      )\n",
       "      (4): ConvBNRelu(\n",
       "        (layers): Sequential(\n",
       "          (0): Conv2d(64, 64, kernel_size=(3, 3), stride=(1, 1), padding=(1, 1))\n",
       "          (1): BatchNorm2d(64, eps=1e-05, momentum=0.1, affine=True, track_running_stats=True)\n",
       "          (2): ReLU(inplace=True)\n",
       "        )\n",
       "      )\n",
       "      (5): ConvBNRelu(\n",
       "        (layers): Sequential(\n",
       "          (0): Conv2d(64, 64, kernel_size=(3, 3), stride=(1, 1), padding=(1, 1))\n",
       "          (1): BatchNorm2d(64, eps=1e-05, momentum=0.1, affine=True, track_running_stats=True)\n",
       "          (2): ReLU(inplace=True)\n",
       "        )\n",
       "      )\n",
       "      (6): ConvBNRelu(\n",
       "        (layers): Sequential(\n",
       "          (0): Conv2d(64, 64, kernel_size=(3, 3), stride=(1, 1), padding=(1, 1))\n",
       "          (1): BatchNorm2d(64, eps=1e-05, momentum=0.1, affine=True, track_running_stats=True)\n",
       "          (2): ReLU(inplace=True)\n",
       "        )\n",
       "      )\n",
       "      (7): ConvBNRelu(\n",
       "        (layers): Sequential(\n",
       "          (0): Conv2d(64, 48, kernel_size=(3, 3), stride=(1, 1), padding=(1, 1))\n",
       "          (1): BatchNorm2d(48, eps=1e-05, momentum=0.1, affine=True, track_running_stats=True)\n",
       "          (2): ReLU(inplace=True)\n",
       "        )\n",
       "      )\n",
       "      (8): AdaptiveAvgPool2d(output_size=(1, 1))\n",
       "    )\n",
       "    (linear): Linear(in_features=48, out_features=48, bias=True)\n",
       "  )\n",
       ")"
      ]
     },
     "execution_count": 14,
     "metadata": {},
     "output_type": "execute_result"
    }
   ],
   "source": [
    "checkpoint, chpt_file_name = utils.load_last_checkpoint(os.path.join(current_run, 'checkpoints'))\n",
    "print(f'Loaded checkpoint from file {chpt_file_name}')\n",
    "\n",
    "noiser = Noiser(noise_config,device)\n",
    "model = Hidden(hidden_config, device, noiser, tb_logger=None,train_options=train_options)\n",
    "utils.model_from_checkpoint(model, checkpoint)\n",
    "model.encoder_decoder.eval()"
   ]
  },
  {
   "cell_type": "code",
   "execution_count": 15,
   "metadata": {},
   "outputs": [],
   "source": [
    "_, val_data = utils.get_data_loaders(hidden_config, train_options)\n",
    "file_count = len(val_data.dataset)\n",
    "if file_count % train_options.batch_size == 0:\n",
    "            steps_in_epoch = file_count // train_options.batch_size\n",
    "else:\n",
    "    steps_in_epoch = file_count // train_options.batch_size + 1"
   ]
  },
  {
   "cell_type": "code",
   "execution_count": 16,
   "metadata": {},
   "outputs": [
    {
     "name": "stdout",
     "output_type": "stream",
     "text": [
      "10000\n"
     ]
    }
   ],
   "source": [
    "print(file_count)"
   ]
  },
  {
   "cell_type": "code",
   "execution_count": 17,
   "metadata": {},
   "outputs": [],
   "source": [
    "\n",
    "step = 0\n",
    "losses_accu={}\n",
    "\n",
    "ori_list_arr=[]\n",
    "with torch.no_grad():\n",
    "    for image, _ in val_data:\n",
    "        \n",
    "        image = image.to(device)\n",
    "        #message = torch.Tensor(np.random.choice([0, 1], (image.shape[0], hidden_config.message_length))).to(device)\n",
    "        decoded_messages= model.encoder_decoder.decoder(image)\n",
    "        if step==0:\n",
    "            ori_list_arr=decoded_messages.detach().cpu()\n",
    "        else:\n",
    "            ori_list_arr=torch.cat( (ori_list_arr,decoded_messages.detach().cpu()),0 )\n",
    "\n",
    "\n",
    "\n",
    "        step += 1\n",
    "        '''\n",
    "        if step >=2:\n",
    "            break\n",
    "        '''"
   ]
  },
  {
   "cell_type": "code",
   "execution_count": null,
   "metadata": {},
   "outputs": [],
   "source": [
    "\n",
    "if round:\n",
    "    ruond_ori_list_arr=ori_list_arr.round().clip(0, 1)\n",
    "\n",
    "miu=torch.mean(ori_list_arr, 0)\n",
    "round_miu=torch.mean(ruond_ori_list_arr, 0)"
   ]
  },
  {
   "cell_type": "code",
   "execution_count": null,
   "metadata": {},
   "outputs": [],
   "source": [
    "print(miu.mean())\n",
    "print(round_miu.mean())"
   ]
  },
  {
   "cell_type": "code",
   "execution_count": null,
   "metadata": {},
   "outputs": [],
   "source": [
    "ori_list_arr-=miu"
   ]
  },
  {
   "cell_type": "code",
   "execution_count": null,
   "metadata": {},
   "outputs": [],
   "source": [
    "conv_matrix=torch.cov(ori_list_arr.T)\n",
    "\n",
    "#plt.matshow(conv_matrix, cmap=plt.cm.Blues)\n",
    "plt.imshow(conv_matrix,vmin=-0.05,vmax=0.3)\n",
    "plt.colorbar()\n",
    "\n",
    "plt.show()\n",
    "\n"
   ]
  },
  {
   "cell_type": "code",
   "execution_count": null,
   "metadata": {},
   "outputs": [],
   "source": [
    "round_conv_matrix=torch.cov(ruond_ori_list_arr.T)\n",
    "\n",
    "#plt.matshow(conv_matrix, cmap=plt.cm.Blues)\n",
    "plt.imshow(round_conv_matrix,vmin=-0.05,vmax=0.3)\n",
    "plt.colorbar()\n",
    "\n",
    "plt.show()"
   ]
  },
  {
   "cell_type": "code",
   "execution_count": null,
   "metadata": {},
   "outputs": [],
   "source": [
    "print(round_conv_matrix.T == round_conv_matrix)"
   ]
  },
  {
   "cell_type": "code",
   "execution_count": null,
   "metadata": {},
   "outputs": [],
   "source": [
    "conv_matrix=(conv_matrix.T+conv_matrix)/2\n",
    "print(torch.all(conv_matrix.T == conv_matrix))"
   ]
  },
  {
   "cell_type": "code",
   "execution_count": null,
   "metadata": {},
   "outputs": [],
   "source": [
    "L, V = torch.linalg.eig(conv_matrix)\n",
    "#L, V = torch.linalg.eigh(conv_matrix)\n",
    "L_matrix=torch.diag_embed(1/torch.sqrt(L))\n",
    "#b=-(L_matrix@V.T).to(torch.float)@(miu-0.5)\n",
    "b=-(L_matrix@V.T).to(torch.float)@miu\n",
    "w=(L_matrix@V.T).to(torch.float)\n",
    "\n",
    "eig_whitening_layer=nn.Linear(48,48)\n",
    "eig_whitening_layer.weight=nn.Parameter(w)\n",
    "eig_whitening_layer.bias=nn.Parameter(b)\n",
    "eig_whitening_layer=eig_whitening_layer.to(device)\n",
    "eig_whitening_layer.eval()"
   ]
  },
  {
   "cell_type": "code",
   "execution_count": null,
   "metadata": {},
   "outputs": [],
   "source": [
    "#L, V = torch.linalg.eig(conv_matrix)\n",
    "L, V = torch.linalg.eigh(conv_matrix)\n",
    "L_matrix=torch.diag_embed(1/torch.sqrt(L))\n",
    "\n",
    "#b=-(L_matrix@V.T).to(torch.float)@(miu-0.5)\n",
    "b=-(L_matrix@V.T).to(torch.float)@miu\n",
    "w=(L_matrix@V.T).to(torch.float)\n",
    "\n",
    "eigh_whitening_layer=nn.Linear(48,48)\n",
    "eigh_whitening_layer.weight=nn.Parameter(w)\n",
    "eigh_whitening_layer.bias=nn.Parameter(b)\n",
    "eigh_whitening_layer=eigh_whitening_layer.to(device)\n",
    "eigh_whitening_layer.eval()"
   ]
  },
  {
   "cell_type": "code",
   "execution_count": null,
   "metadata": {},
   "outputs": [],
   "source": [
    "\n",
    "step = 0\n",
    "losses_accu={}\n",
    "\n",
    "eig_list_arr=[]\n",
    "\n",
    "eigh_list_arr=[]\n",
    "with torch.no_grad():\n",
    "    for image, _ in val_data:\n",
    "        \n",
    "        image = image.to(device)\n",
    "        #message = torch.Tensor(np.random.choice([0, 1], (image.shape[0], hidden_config.message_length))).to(device)\n",
    "        decoded_messages= model.encoder_decoder.decoder(image)\n",
    "        eig_decoded_messages=eig_whitening_layer(decoded_messages)\n",
    "        eigh_decoded_messages=eigh_whitening_layer(decoded_messages)\n",
    "\n",
    "\n",
    "        if step==0:\n",
    "            eig_list_arr=eig_decoded_messages.detach().cpu()\n",
    "            eigh_list_arr=eigh_decoded_messages.detach().cpu()\n",
    "        else:\n",
    "            eig_list_arr=torch.cat( (eig_list_arr,eig_decoded_messages.detach().cpu()),0 )\n",
    "            eigh_list_arr=torch.cat( (eigh_list_arr,eigh_decoded_messages.detach().cpu()),0 )\n",
    "\n",
    "\n",
    "\n",
    "        step += 1\n",
    "       "
   ]
  },
  {
   "cell_type": "code",
   "execution_count": null,
   "metadata": {},
   "outputs": [],
   "source": [
    "print(decoded_messages)"
   ]
  },
  {
   "cell_type": "code",
   "execution_count": null,
   "metadata": {},
   "outputs": [],
   "source": [
    "print(eig_decoded_messages)"
   ]
  },
  {
   "cell_type": "code",
   "execution_count": null,
   "metadata": {},
   "outputs": [],
   "source": [
    "noround_eig_miu=torch.mean(eig_list_arr, 0)\n",
    "noround_eigh_miu=torch.mean(eigh_list_arr, 0)\n",
    "'''\n",
    "if round:\n",
    "    eig_list_arr=eig_list_arr.round().clip(0, 1)\n",
    "    eigh_list_arr=eigh_list_arr.round().clip(0, 1)\n",
    "'''\n",
    "eig_conv_matrix=torch.cov(eig_list_arr.T)\n",
    "plt.imshow(eig_conv_matrix,vmin=-0.05,vmax=0.3)\n",
    "plt.colorbar()\n",
    "\n",
    "plt.show()"
   ]
  },
  {
   "cell_type": "code",
   "execution_count": null,
   "metadata": {},
   "outputs": [],
   "source": [
    "eigh_conv_matrix=torch.cov(eigh_list_arr.T)\n",
    "plt.imshow(eigh_conv_matrix,vmin=-0.05,vmax=0.3)\n",
    "plt.colorbar()\n",
    "\n",
    "plt.show()"
   ]
  },
  {
   "cell_type": "code",
   "execution_count": null,
   "metadata": {},
   "outputs": [],
   "source": []
  },
  {
   "cell_type": "code",
   "execution_count": null,
   "metadata": {},
   "outputs": [],
   "source": [
    "print(noround_eig_miu.mean())\n",
    "print(noround_eigh_miu.mean())"
   ]
  }
 ],
 "metadata": {
  "kernelspec": {
   "display_name": "ldm",
   "language": "python",
   "name": "python3"
  },
  "language_info": {
   "codemirror_mode": {
    "name": "ipython",
    "version": 3
   },
   "file_extension": ".py",
   "mimetype": "text/x-python",
   "name": "python",
   "nbconvert_exporter": "python",
   "pygments_lexer": "ipython3",
   "version": "3.8.5"
  },
  "orig_nbformat": 4
 },
 "nbformat": 4,
 "nbformat_minor": 2
}
